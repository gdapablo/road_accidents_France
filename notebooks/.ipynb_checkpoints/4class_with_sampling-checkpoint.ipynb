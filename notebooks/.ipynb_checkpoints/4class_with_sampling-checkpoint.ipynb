{
 "cells": [
  {
   "cell_type": "markdown",
   "id": "76eade33-3935-4a11-ac2c-1697e25ad2b9",
   "metadata": {},
   "source": [
    "# __Modules loading__"
   ]
  },
  {
   "cell_type": "code",
   "execution_count": 1,
   "id": "3ee5ca4e-afe4-4e89-9f8b-e8d48bbab71e",
   "metadata": {
    "tags": []
   },
   "outputs": [],
   "source": [
    "import pandas as pd, numpy as np\n",
    "import matplotlib.pyplot as plt, seaborn as sns\n",
    "from sklearn.linear_model import LogisticRegression\n",
    "from sklearn.metrics import accuracy_score, roc_curve, roc_auc_score, classification_report\n",
    "from sklearn.preprocessing import StandardScaler, MinMaxScaler\n",
    "from sklearn.model_selection import train_test_split, GridSearchCV\n",
    "from imblearn.metrics import classification_report_imbalanced\n",
    "from sklearn.ensemble import RandomForestClassifier\n",
    "from sklearn.feature_selection import SelectFromModel\n",
    "from sklearn.naive_bayes import GaussianNB\n",
    "from sklearn.tree import DecisionTreeClassifier\n",
    "from xgboost import XGBClassifier\n",
    "from sklearn.feature_selection import VarianceThreshold\n",
    "from tqdm import tqdm\n",
    "import time\n",
    "from prince import MCA\n",
    "from joblib import Parallel, delayed\n",
    "from scipy.stats import chi2_contingency\n",
    "from imblearn.over_sampling import RandomOverSampler, SMOTE\n",
    "from imblearn.under_sampling import RandomUnderSampler,  ClusterCentroids"
   ]
  },
  {
   "cell_type": "markdown",
   "id": "2fbbe65d-951d-4136-b20c-6cc8da675142",
   "metadata": {},
   "source": [
    "# __Pre-processing__"
   ]
  },
  {
   "cell_type": "markdown",
   "id": "552a6793-1241-4598-aa23-065d94ff898e",
   "metadata": {},
   "source": [
    "We just focus on years 2019-2022 so we open those datasets"
   ]
  },
  {
   "cell_type": "code",
   "execution_count": 2,
   "id": "9dfba112-d6e7-4e4e-a516-7f829cd016ab",
   "metadata": {
    "tags": []
   },
   "outputs": [
    {
     "data": {
      "text/html": [
       "<div>\n",
       "<style scoped>\n",
       "    .dataframe tbody tr th:only-of-type {\n",
       "        vertical-align: middle;\n",
       "    }\n",
       "\n",
       "    .dataframe tbody tr th {\n",
       "        vertical-align: top;\n",
       "    }\n",
       "\n",
       "    .dataframe thead th {\n",
       "        text-align: right;\n",
       "    }\n",
       "</style>\n",
       "<table border=\"1\" class=\"dataframe\">\n",
       "  <thead>\n",
       "    <tr style=\"text-align: right;\">\n",
       "      <th></th>\n",
       "      <th>Num_Acc</th>\n",
       "      <th>place</th>\n",
       "      <th>catu</th>\n",
       "      <th>severity</th>\n",
       "      <th>gender</th>\n",
       "      <th>trajet</th>\n",
       "      <th>secu</th>\n",
       "      <th>locp</th>\n",
       "      <th>actp</th>\n",
       "      <th>comp</th>\n",
       "      <th>...</th>\n",
       "      <th>int</th>\n",
       "      <th>atm</th>\n",
       "      <th>col</th>\n",
       "      <th>com</th>\n",
       "      <th>adr</th>\n",
       "      <th>gps</th>\n",
       "      <th>lat</th>\n",
       "      <th>long</th>\n",
       "      <th>dep</th>\n",
       "      <th>age</th>\n",
       "    </tr>\n",
       "  </thead>\n",
       "  <tbody>\n",
       "    <tr>\n",
       "      <th>0</th>\n",
       "      <td>201900000001</td>\n",
       "      <td>2.0</td>\n",
       "      <td>2.0</td>\n",
       "      <td>1.0</td>\n",
       "      <td>2.0</td>\n",
       "      <td>0.0</td>\n",
       "      <td>NaN</td>\n",
       "      <td>-1.0</td>\n",
       "      <td>-1</td>\n",
       "      <td>-1.0</td>\n",
       "      <td>...</td>\n",
       "      <td>1</td>\n",
       "      <td>1</td>\n",
       "      <td>2</td>\n",
       "      <td>93053</td>\n",
       "      <td>AUTOROUTE A3</td>\n",
       "      <td>NaN</td>\n",
       "      <td>48.896210</td>\n",
       "      <td>2.470120</td>\n",
       "      <td>93</td>\n",
       "      <td>17.0</td>\n",
       "    </tr>\n",
       "    <tr>\n",
       "      <th>1</th>\n",
       "      <td>201900000001</td>\n",
       "      <td>1.0</td>\n",
       "      <td>1.0</td>\n",
       "      <td>1.0</td>\n",
       "      <td>2.0</td>\n",
       "      <td>5.0</td>\n",
       "      <td>NaN</td>\n",
       "      <td>-1.0</td>\n",
       "      <td>-1</td>\n",
       "      <td>-1.0</td>\n",
       "      <td>...</td>\n",
       "      <td>1</td>\n",
       "      <td>1</td>\n",
       "      <td>2</td>\n",
       "      <td>93053</td>\n",
       "      <td>AUTOROUTE A3</td>\n",
       "      <td>NaN</td>\n",
       "      <td>48.896210</td>\n",
       "      <td>2.470120</td>\n",
       "      <td>93</td>\n",
       "      <td>26.0</td>\n",
       "    </tr>\n",
       "    <tr>\n",
       "      <th>2</th>\n",
       "      <td>201900000001</td>\n",
       "      <td>1.0</td>\n",
       "      <td>1.0</td>\n",
       "      <td>0.0</td>\n",
       "      <td>1.0</td>\n",
       "      <td>0.0</td>\n",
       "      <td>NaN</td>\n",
       "      <td>-1.0</td>\n",
       "      <td>-1</td>\n",
       "      <td>-1.0</td>\n",
       "      <td>...</td>\n",
       "      <td>1</td>\n",
       "      <td>1</td>\n",
       "      <td>2</td>\n",
       "      <td>93053</td>\n",
       "      <td>AUTOROUTE A3</td>\n",
       "      <td>NaN</td>\n",
       "      <td>48.896210</td>\n",
       "      <td>2.470120</td>\n",
       "      <td>93</td>\n",
       "      <td>60.0</td>\n",
       "    </tr>\n",
       "    <tr>\n",
       "      <th>3</th>\n",
       "      <td>201900000002</td>\n",
       "      <td>1.0</td>\n",
       "      <td>1.0</td>\n",
       "      <td>1.0</td>\n",
       "      <td>2.0</td>\n",
       "      <td>0.0</td>\n",
       "      <td>NaN</td>\n",
       "      <td>-1.0</td>\n",
       "      <td>-1</td>\n",
       "      <td>-1.0</td>\n",
       "      <td>...</td>\n",
       "      <td>1</td>\n",
       "      <td>1</td>\n",
       "      <td>6</td>\n",
       "      <td>93066</td>\n",
       "      <td>AUTOROUTE A1</td>\n",
       "      <td>NaN</td>\n",
       "      <td>48.930700</td>\n",
       "      <td>2.368800</td>\n",
       "      <td>93</td>\n",
       "      <td>25.0</td>\n",
       "    </tr>\n",
       "    <tr>\n",
       "      <th>4</th>\n",
       "      <td>201900000003</td>\n",
       "      <td>1.0</td>\n",
       "      <td>1.0</td>\n",
       "      <td>0.0</td>\n",
       "      <td>1.0</td>\n",
       "      <td>0.0</td>\n",
       "      <td>NaN</td>\n",
       "      <td>-1.0</td>\n",
       "      <td>0</td>\n",
       "      <td>-1.0</td>\n",
       "      <td>...</td>\n",
       "      <td>1</td>\n",
       "      <td>1</td>\n",
       "      <td>4</td>\n",
       "      <td>92036</td>\n",
       "      <td>AUTOROUTE A86</td>\n",
       "      <td>NaN</td>\n",
       "      <td>48.935872</td>\n",
       "      <td>2.319174</td>\n",
       "      <td>92</td>\n",
       "      <td>23.0</td>\n",
       "    </tr>\n",
       "  </tbody>\n",
       "</table>\n",
       "<p>5 rows × 55 columns</p>\n",
       "</div>"
      ],
      "text/plain": [
       "        Num_Acc  place  catu  severity  gender  trajet  secu  locp actp  comp  \\\n",
       "0  201900000001    2.0   2.0       1.0     2.0     0.0   NaN  -1.0   -1  -1.0   \n",
       "1  201900000001    1.0   1.0       1.0     2.0     5.0   NaN  -1.0   -1  -1.0   \n",
       "2  201900000001    1.0   1.0       0.0     1.0     0.0   NaN  -1.0   -1  -1.0   \n",
       "3  201900000002    1.0   1.0       1.0     2.0     0.0   NaN  -1.0   -1  -1.0   \n",
       "4  201900000003    1.0   1.0       0.0     1.0     0.0   NaN  -1.0    0  -1.0   \n",
       "\n",
       "   ... int  atm  col    com            adr  gps        lat      long  dep  \\\n",
       "0  ...   1    1    2  93053   AUTOROUTE A3  NaN  48.896210  2.470120   93   \n",
       "1  ...   1    1    2  93053   AUTOROUTE A3  NaN  48.896210  2.470120   93   \n",
       "2  ...   1    1    2  93053   AUTOROUTE A3  NaN  48.896210  2.470120   93   \n",
       "3  ...   1    1    6  93066   AUTOROUTE A1  NaN  48.930700  2.368800   93   \n",
       "4  ...   1    1    4  92036  AUTOROUTE A86  NaN  48.935872  2.319174   92   \n",
       "\n",
       "    age  \n",
       "0  17.0  \n",
       "1  26.0  \n",
       "2  60.0  \n",
       "3  25.0  \n",
       "4  23.0  \n",
       "\n",
       "[5 rows x 55 columns]"
      ]
     },
     "execution_count": 2,
     "metadata": {},
     "output_type": "execute_result"
    }
   ],
   "source": [
    "df1 = pd.read_csv('../data/accidents_2019.csv')\n",
    "df2 = pd.read_csv('../data/accidents_2020.csv')\n",
    "df3 = pd.read_csv('../data/accidents_2021.csv')\n",
    "df4 = pd.read_csv('../data/accidents_2022.csv')\n",
    "\n",
    "df = pd.concat([df1,df2,df3,df4])\n",
    "df.drop('Unnamed: 0', axis=1, inplace=True)\n",
    "\n",
    "# Deleting these variables to save RAM\n",
    "del df1; del df2; del df3; del df4\n",
    "\n",
    "df.head()"
   ]
  },
  {
   "cell_type": "code",
   "execution_count": 3,
   "id": "f53e0045-d83c-45e6-a35e-cdc9c5fec717",
   "metadata": {
    "tags": []
   },
   "outputs": [],
   "source": [
    "# Droping some columns\n",
    "cols_to_drop = ['nbv', 'larrout', 'voie', 'adr']\n",
    "df.drop(columns=cols_to_drop, axis=1, inplace=True)"
   ]
  },
  {
   "cell_type": "code",
   "execution_count": 4,
   "id": "38a1a234-4859-4853-a4b2-d1ecb1c4b30d",
   "metadata": {
    "tags": []
   },
   "outputs": [],
   "source": [
    "length = len(df)\n",
    "thres  = 0.9 # Threshold above which we delete columns\n",
    "cols   = df.columns.values # Getting the columns\n",
    "idx    = df.isna().sum().values/length < thres # Deleting conditions\n",
    "idx[0] = True # Keep the unique identifier column 'Num_Acc'\n",
    "df_cleaned = df[cols[idx]] # Purging all columns with % nulls above 90%"
   ]
  },
  {
   "cell_type": "code",
   "execution_count": 5,
   "id": "473b7dc1-4a15-47bc-9430-034977abedb6",
   "metadata": {
    "tags": []
   },
   "outputs": [
    {
     "name": "stderr",
     "output_type": "stream",
     "text": [
      "/tmp/ipykernel_34156/1375660685.py:4: SettingWithCopyWarning: \n",
      "A value is trying to be set on a copy of a slice from a DataFrame.\n",
      "Try using .loc[row_indexer,col_indexer] = value instead\n",
      "\n",
      "See the caveats in the documentation: https://pandas.pydata.org/pandas-docs/stable/user_guide/indexing.html#returning-a-view-versus-a-copy\n",
      "  df_cleaned['actp'] = df_cleaned['actp'].astype('int64')\n"
     ]
    }
   ],
   "source": [
    "# Converting 'actp' 'A' and 'B' categories into numbers\n",
    "df_cleaned.loc[df_cleaned['actp'] == 'A', 'actp'] = '10'\n",
    "df_cleaned.loc[df_cleaned['actp'] == 'B', 'actp'] = '11'\n",
    "df_cleaned['actp'] = df_cleaned['actp'].astype('int64')\n",
    "\n",
    "# Discarding the 0 in 'gender' column\n",
    "df_cleaned = df_cleaned[df_cleaned['gender'] != 0]"
   ]
  },
  {
   "cell_type": "code",
   "execution_count": 6,
   "id": "ff07c0d9-0222-4d1b-8be3-0bec1b5584ba",
   "metadata": {
    "tags": []
   },
   "outputs": [
    {
     "data": {
      "image/png": "[encoded data removed]",
      "text/plain": [
       "<Figure size 400x350 with 1 Axes>"
      ]
     },
     "metadata": {},
     "output_type": "display_data"
    }
   ],
   "source": [
    "plt.figure(figsize = [4,3.5])\n",
    "df_cleaned['severity'].value_counts().plot(kind = 'bar')\n",
    "plt.xlabel('Severity')\n",
    "plt.ylabel('Density')\n",
    "plt.title('Distribution of Target categories\\n(injury severity)')\n",
    "plt.show()"
   ]
  },
  {
   "cell_type": "markdown",
   "id": "864f775e-a280-4d11-86b3-241322c035bd",
   "metadata": {},
   "source": [
    "So there are imbalance in categories 2 (`Hospitalized injury`) and 3 (`Killed`). We need to apply a random oversampler to account for the imbalance."
   ]
  },
  {
   "cell_type": "markdown",
   "id": "e1c57a19-2531-4133-8a09-b0b637943654",
   "metadata": {},
   "source": [
    "First let's clean some variables using the variance selector"
   ]
  },
  {
   "cell_type": "code",
   "execution_count": 7,
   "id": "465f0f57-9703-4da1-a5f4-55829813e021",
   "metadata": {
    "tags": []
   },
   "outputs": [],
   "source": [
    "# Set the threshold for variance\n",
    "threshold = 0.01\n",
    "\n",
    "# Extract numerical columns from merge_cleaned (assuming merge_cleaned is a DataFrame containing numeric columns)\n",
    "numeric_columns = df_cleaned.select_dtypes(include=['number'])\n",
    "\n",
    "# Initialize VarianceThreshold selector\n",
    "selector = VarianceThreshold(threshold=threshold)\n",
    "\n",
    "# Fit and transform the data using the selector\n",
    "selected_features = selector.fit_transform(numeric_columns)\n",
    "\n",
    "# Get the columns that are selected\n",
    "selected_columns = numeric_columns.columns[selector.get_support()]\n",
    "\n",
    "# Create a new DataFrame with selected features\n",
    "df_cleaned = pd.DataFrame(data=selected_features, columns=selected_columns)\n",
    "\n",
    "# Transform into str the Num_Acc column\n",
    "df_cleaned['Num_Acc'] = df_cleaned['Num_Acc'].astype('int64').astype('str')"
   ]
  },
  {
   "cell_type": "code",
   "execution_count": 8,
   "id": "44a48e71-018c-470e-a7ca-89b5cb28111d",
   "metadata": {
    "tags": []
   },
   "outputs": [],
   "source": [
    "# Preparing the features matrix by deleting more features\n",
    "cols_to_drop = ['lat', 'long']\n",
    "df_cleaned.drop(columns=cols_to_drop, axis=1, inplace=True)"
   ]
  },
  {
   "cell_type": "code",
   "execution_count": 9,
   "id": "af309171-d94e-4bb5-99f6-9c2a121907af",
   "metadata": {
    "tags": []
   },
   "outputs": [],
   "source": [
    "# Converting object type columns into integers\n",
    "cols = ['place', 'catu', 'severity', 'gender', 'trajet', 'locp', 'comp', 'age', 'secu1',\n",
    "        'secu2', 'secu3', 'catr', 'circ', 'vosp', 'surf', 'infra', 'situ', 'vma', 'actp',\n",
    "       'senc', 'catv', 'obs', 'obsm', 'choc', 'manv', 'motor', 'v1', 'prof', 'plan', 'month',\n",
    "       'day', 'lum', 'agg', 'atm', 'col', 'int']\n",
    "for ii in cols:\n",
    "    df_cleaned[ii] = df_cleaned[ii].astype('int64')"
   ]
  },
  {
   "cell_type": "code",
   "execution_count": 10,
   "id": "f4fa64fb-28a3-4afb-afab-6930a70e8983",
   "metadata": {
    "tags": []
   },
   "outputs": [
    {
     "data": {
      "text/plain": [
       "Num_Acc      object\n",
       "place         int64\n",
       "catu          int64\n",
       "severity      int64\n",
       "gender        int64\n",
       "trajet        int64\n",
       "locp          int64\n",
       "actp          int64\n",
       "comp          int64\n",
       "secu1         int64\n",
       "secu2         int64\n",
       "secu3         int64\n",
       "senc          int64\n",
       "catv          int64\n",
       "obs           int64\n",
       "obsm          int64\n",
       "choc          int64\n",
       "manv          int64\n",
       "motor         int64\n",
       "catr          int64\n",
       "v1            int64\n",
       "circ          int64\n",
       "vosp          int64\n",
       "prof          int64\n",
       "plan          int64\n",
       "surf          int64\n",
       "infra         int64\n",
       "situ          int64\n",
       "vma           int64\n",
       "year        float64\n",
       "month         int64\n",
       "day           int64\n",
       "lum           int64\n",
       "agg           int64\n",
       "int           int64\n",
       "atm           int64\n",
       "col           int64\n",
       "age           int64\n",
       "dtype: object"
      ]
     },
     "execution_count": 10,
     "metadata": {},
     "output_type": "execute_result"
    }
   ],
   "source": [
    "df_cleaned.dtypes # Check the types of the variables"
   ]
  },
  {
   "cell_type": "code",
   "execution_count": 11,
   "id": "5801e473-2f95-4c1b-992f-d5002de33692",
   "metadata": {
    "tags": []
   },
   "outputs": [
    {
     "name": "stdout",
     "output_type": "stream",
     "text": [
      "Columns with just two categories:\n",
      "Index(['gender', 'agg'], dtype='object')\n"
     ]
    }
   ],
   "source": [
    "# Deleting category -1 in 'gender'\n",
    "df_cleaned = df_cleaned[df_cleaned['gender'] != -1]\n",
    "\n",
    "# Check how many variables present just two categories\n",
    "two_categories = df_cleaned.columns[df_cleaned.nunique() == 2]\n",
    "\n",
    "# Displaying columns with just two categories for encoding\n",
    "print(\"Columns with just two categories:\")\n",
    "print(two_categories)"
   ]
  },
  {
   "cell_type": "code",
   "execution_count": 12,
   "id": "b7ed72a6-c05d-43f3-9e07-f63b36143968",
   "metadata": {
    "tags": []
   },
   "outputs": [],
   "source": [
    "# Encoding gender and agg\n",
    "df_cleaned['gender'][df_cleaned['gender'] == 2] = 0\n",
    "df_cleaned['agg'][df_cleaned['agg'] == 2] = 0\n",
    "\n",
    "# Unique years in your dataset\n",
    "#unique_years = df_cleaned['year'].unique()\n",
    "\n",
    "# Choose a specific year as the cutoff for splitting\n",
    "#split_year = 2020\n",
    "\n",
    "# Storing the year column into a year variable\n",
    "#year = df_cleaned['year']\n",
    "#df_cleaned.drop('year', axis=1, inplace=True)"
   ]
  },
  {
   "cell_type": "markdown",
   "id": "ee2199e5-a348-435a-a7c3-ff71289a2adf",
   "metadata": {},
   "source": [
    "#### Pre-processing secu1, 2, 3 variables"
   ]
  },
  {
   "cell_type": "code",
   "execution_count": 13,
   "id": "d83cdc2e-1cf7-4e22-9aec-03b70fca82f6",
   "metadata": {
    "tags": []
   },
   "outputs": [
    {
     "name": "stdout",
     "output_type": "stream",
     "text": [
      "<class 'pandas.core.frame.DataFrame'>\n",
      "Int64Index: 473519 entries, 0 to 473522\n",
      "Data columns (total 46 columns):\n",
      " #   Column                Non-Null Count   Dtype  \n",
      "---  ------                --------------   -----  \n",
      " 0   Num_Acc               473519 non-null  object \n",
      " 1   place                 473519 non-null  int64  \n",
      " 2   catu                  473519 non-null  int64  \n",
      " 3   severity              473519 non-null  int64  \n",
      " 4   gender                473519 non-null  int64  \n",
      " 5   trajet                473519 non-null  int64  \n",
      " 6   locp                  473519 non-null  int64  \n",
      " 7   actp                  473519 non-null  int64  \n",
      " 8   comp                  473519 non-null  int64  \n",
      " 9   senc                  473519 non-null  int64  \n",
      " 10  catv                  473519 non-null  int64  \n",
      " 11  obs                   473519 non-null  int64  \n",
      " 12  obsm                  473519 non-null  int64  \n",
      " 13  choc                  473519 non-null  int64  \n",
      " 14  manv                  473519 non-null  int64  \n",
      " 15  motor                 473519 non-null  int64  \n",
      " 16  catr                  473519 non-null  int64  \n",
      " 17  v1                    473519 non-null  int64  \n",
      " 18  circ                  473519 non-null  int64  \n",
      " 19  vosp                  473519 non-null  int64  \n",
      " 20  prof                  473519 non-null  int64  \n",
      " 21  plan                  473519 non-null  int64  \n",
      " 22  surf                  473519 non-null  int64  \n",
      " 23  infra                 473519 non-null  int64  \n",
      " 24  situ                  473519 non-null  int64  \n",
      " 25  vma                   473519 non-null  int64  \n",
      " 26  year                  473519 non-null  float64\n",
      " 27  month                 473519 non-null  int64  \n",
      " 28  day                   473519 non-null  int64  \n",
      " 29  lum                   473519 non-null  int64  \n",
      " 30  agg                   473519 non-null  int64  \n",
      " 31  int                   473519 non-null  int64  \n",
      " 32  atm                   473519 non-null  int64  \n",
      " 33  col                   473519 non-null  int64  \n",
      " 34  age                   473519 non-null  int64  \n",
      " 35  secu_absent           473519 non-null  uint8  \n",
      " 36  secu_NA               473519 non-null  uint8  \n",
      " 37  secu_belt             473519 non-null  uint8  \n",
      " 38  secu_helmet           473519 non-null  uint8  \n",
      " 39  secu_child-restraint  473519 non-null  uint8  \n",
      " 40  secu_reflective-vest  473519 non-null  uint8  \n",
      " 41  secu_airbag           473519 non-null  uint8  \n",
      " 42  secu_gants            473519 non-null  uint8  \n",
      " 43  secu_airbag-gants     473519 non-null  uint8  \n",
      " 44  secu_undet            473519 non-null  uint8  \n",
      " 45  secu_other            473519 non-null  uint8  \n",
      "dtypes: float64(1), int64(33), object(1), uint8(11)\n",
      "memory usage: 135.0+ MB\n"
     ]
    }
   ],
   "source": [
    "new_secu  = df_cleaned#[['Num_Acc', 'secu1', 'secu2', 'secu3']]\n",
    "new_secu[['secu1', 'secu2', 'secu3']] = new_secu[['secu1', 'secu2', 'secu3']].astype('str')\n",
    "new_secu = pd.get_dummies(new_secu, columns=['secu1', 'secu2', 'secu3'])\n",
    "new_secu = new_secu.drop(['secu1_-1', 'secu1_0', 'secu2_0', 'secu3_0', 'secu2_-1', 'secu3_-1'], axis =1) # discard unnecessary dummies\n",
    "for suffix in ['1', '2', '3', '4', '5', '6', '7', '8', '9']:\n",
    "        var_name1 = 'secu1_' + suffix\n",
    "        var_name2 = 'secu2_' + suffix\n",
    "        var_name3 = 'secu3_' + suffix\n",
    "       # print(var_name1, '; ', var_name2, '; ', var_name3)\n",
    "        new_secu['secu_' + suffix] = new_secu[var_name1] + new_secu[var_name2] + new_secu[var_name3] # create new unique variable for the category\n",
    "        new_secu = new_secu.drop([var_name1, var_name2, var_name3], axis = 1) # drop old variables of that category\n",
    "\n",
    "# Check new security variables\n",
    "#new_secu.head()\n",
    "\n",
    "\n",
    "# 4. Optional rename columns ... according to the type of security they're coding for\n",
    "col_mapping = {\n",
    "    'secu1_-2' : 'secu_absent',\n",
    "    'secu1_-3': 'secu_NA',\n",
    "    'secu_1': 'secu_belt',\n",
    "    'secu_2': 'secu_helmet',\n",
    "    'secu_3': 'secu_child-restraint',\n",
    "    'secu_4': 'secu_reflective-vest',\n",
    "    'secu_5': 'secu_airbag',\n",
    "    'secu_6': 'secu_gants',\n",
    "    'secu_7': 'secu_airbag-gants',\n",
    "    'secu_8': 'secu_undet',\n",
    "    # secu_undet = undeterminable, probably in severe accidents;\n",
    "    # in which case I suggest removing it (because it depend on accident severity, and not the other way around)\n",
    "    'secu_9': 'secu_other'\n",
    "}\n",
    "\n",
    "new_secu = new_secu.rename(columns = col_mapping)\n",
    "\n",
    "cols = ['secu_absent', 'secu_NA', 'secu_belt', 'secu_helmet', 'secu_child-restraint', 'secu_reflective-vest',\n",
    "       'secu_airbag', 'secu_gants', 'secu_airbag-gants', 'secu_undet']\n",
    "\n",
    "# 5. Replace values of '2' and '3' with '1'\n",
    "new_secu.info()\n",
    "new_secu[cols] = new_secu[cols].replace({2.0: 1,\n",
    "                             3.0 : 1})\n",
    "\n",
    "# Check that there are no additional otliers present (i.e. values consist exclusively of '0' and '1')\n",
    "new_secu.describe()\n",
    "\n",
    "# NOTE: the new_secu dataframe needs to be now merged with the dataframe it originated from, where secu_1, secu_2 and secu_3 variables will be dropped.\n",
    "#df_cleaned = df_cleaned.drop(['secu1', 'secu2', 'secu3'], axis = 1)\n",
    "# merge_02['Num_Acc'] = merge_02['Num_Acc'].astype(object)\n",
    "#df_cleaned = df_cleaned.merge(new_secu, left_on=['Num_Acc'], right_on=['Num_Acc'])\n",
    "df_cleaned = new_secu\n",
    "del new_secu\n",
    "\n",
    "df_cleaned.drop('Num_Acc', axis=1, inplace=True)\n",
    "\n",
    "# 6. Check correlations between the newly constructed security variables\n",
    "\n",
    "#secu_and_sev = list(merge_cleaned.loc[:,'secu_absent':'secu_other'].columns)\n",
    "#secu_and_sev.append('severity')\n",
    "#print(secu_and_sev)\n",
    "\n",
    "#plt.figure(figsize = (10,8))\n",
    "#sns.heatmap(merge_cleaned.loc[merge_cleaned['year'].isin([2019, 2020, 2021, 2022]), \n",
    "#                              merge_cleaned.columns.isin(secu_and_sev)].corr(), \n",
    "#            cmap = 'bwr', center = 0, annot = True, fmt = \".2f\");\n",
    "#del secu_and_sev"
   ]
  },
  {
   "cell_type": "markdown",
   "id": "eb42dc07-64f5-46d1-bb03-31c8dddef7c1",
   "metadata": {},
   "source": [
    "### Dummyfication of the variables"
   ]
  },
  {
   "cell_type": "code",
   "execution_count": 14,
   "id": "b0bd11ee-2261-4b22-af8d-c5f28ea39235",
   "metadata": {
    "tags": []
   },
   "outputs": [],
   "source": [
    "# List of columns to convert into dummy without gender and agg\n",
    "cols_to_dummy = df_cleaned.columns.difference(['gender', 'agg', 'age', 'severity', 'birth_year', 'year', 'secu_absent',\n",
    "                                              'secu_NA', 'secu_belt', 'secu_helmet', 'secu_child-restraint', 'secu_reflective-vest',\n",
    "                                              'secu_airbag', 'secu_gants', 'secu_airbag-gants', 'secu_undet', 'secu_other'])\n",
    "\n",
    "# Convert the columns into variable dummies\n",
    "df_cleaned = pd.get_dummies(df_cleaned, columns=cols_to_dummy)"
   ]
  },
  {
   "cell_type": "markdown",
   "id": "2efca8ff-2a78-43d3-a981-8e16d54b9f71",
   "metadata": {},
   "source": [
    "### Spliting in training and testing sets: rescaling of quantitative variables"
   ]
  },
  {
   "cell_type": "code",
   "execution_count": 15,
   "id": "e87d2381-a966-4103-929a-037d89980a4f",
   "metadata": {
    "tags": []
   },
   "outputs": [],
   "source": [
    "X = df_cleaned.drop('severity', axis=1) # Features\n",
    "y = df_cleaned['severity'] # Target\n",
    "\n",
    "# Split the data based on the 'year' column to account for the dependence with time\n",
    "#X_train = X[year < split_year]\n",
    "#y_train = y[year < split_year]\n",
    "#X_test = X[year >= split_year]\n",
    "#y_test = y[year >= split_year]\n",
    "\n",
    "X_train, X_test, y_train, y_test = train_test_split(X, y, test_size=.2, random_state=42)"
   ]
  },
  {
   "cell_type": "code",
   "execution_count": 16,
   "id": "1d4d9985-e2dc-49c0-9218-4fd41854c4c4",
   "metadata": {
    "tags": []
   },
   "outputs": [
    {
     "data": {
      "image/png": "[encoded data removed]",
      "text/plain": [
       "<Figure size 640x480 with 1 Axes>"
      ]
     },
     "metadata": {},
     "output_type": "display_data"
    }
   ],
   "source": [
    "# Before scaling the variables, let's take a look at their distributions\n",
    "# Histogram of the variable birth_age\n",
    "sns.histplot(X_train[\"age\"], stat=\"density\")\n",
    "plt.title(\"Histogram of birth_year\")\n",
    "plt.show();\n",
    "\n",
    "# Histogram of the variable year\n",
    "#sns.histplot(X_train[\"year\"], stat=\"density\")\n",
    "#plt.title(\"Histogram of year\")\n",
    "#plt.show()\n",
    "\n",
    "# None of the two variables follow a normal distribution, so it is not recomended to apply\n",
    "# a standard normalisation but a min-max scaler between 0 and 1"
   ]
  },
  {
   "cell_type": "code",
   "execution_count": 17,
   "id": "8893bcae-51ff-4109-bb98-50494e7eda21",
   "metadata": {
    "tags": []
   },
   "outputs": [],
   "source": [
    "# Extract the 'birth_year' and 'year' columns from X_train and X_test\n",
    "columns_to_scale = ['age', 'year']\n",
    "\n",
    "# Normalization between 0 and 1 \n",
    "scaler = MinMaxScaler()\n",
    "# Fit the scaler on the specified columns in X_train\n",
    "scaler.fit(X_train[columns_to_scale])\n",
    "\n",
    "# Create the StandardScaler object\n",
    "#scaler = StandardScaler()\n",
    "\n",
    "# Fit the scaler on the specified columns in X_train\n",
    "#scaler.fit(X_train[columns_to_scale])\n",
    "\n",
    "# Transform the specified columns in both X_train and X_test\n",
    "X_train[columns_to_scale] = scaler.transform(X_train[columns_to_scale])\n",
    "X_test[columns_to_scale]  = scaler.transform(X_test[columns_to_scale])"
   ]
  },
  {
   "cell_type": "markdown",
   "id": "bda095c8-35e3-4928-89d0-5d1bb0def3b6",
   "metadata": {},
   "source": [
    "### __Applying SMOTE OverSampling on the training set__"
   ]
  },
  {
   "cell_type": "code",
   "execution_count": 18,
   "id": "a4e3fb0d-176c-48e4-9b97-826a62bd9cf5",
   "metadata": {
    "tags": []
   },
   "outputs": [
    {
     "name": "stdout",
     "output_type": "stream",
     "text": [
      "Number of oversampled elements for each class (SMOTE): {1: 159731, 0: 159731, 2: 159731, 3: 159731}\n"
     ]
    }
   ],
   "source": [
    "smo = SMOTE()\n",
    "X_sm, y_sm = smo.fit_resample(X_train, y_train)\n",
    "print('Number of oversampled elements for each class (SMOTE):', dict(pd.Series(y_sm).value_counts()))"
   ]
  },
  {
   "cell_type": "markdown",
   "id": "2eb37883-cc3e-42bb-af48-bb1ad14b0828",
   "metadata": {},
   "source": [
    "# __Models training__"
   ]
  },
  {
   "cell_type": "markdown",
   "id": "fed87621-e790-42d3-8802-7bbd8317029e",
   "metadata": {},
   "source": [
    "Let's try to train RandomClassifier, LogisticRegression, XGboost and ANN on the SMOTE training set."
   ]
  },
  {
   "cell_type": "markdown",
   "id": "caa69ec4-20af-408f-97c5-88c2bf29f778",
   "metadata": {
    "jp-MarkdownHeadingCollapsed": true
   },
   "source": [
    "## __RandomForest Classifier on the training set__"
   ]
  },
  {
   "cell_type": "code",
   "execution_count": 68,
   "id": "478d567f-4707-4b29-83c3-8ac9d7facec5",
   "metadata": {
    "tags": []
   },
   "outputs": [
    {
     "name": "stdout",
     "output_type": "stream",
     "text": [
      "=========================\n",
      "Cross-tab:\n",
      " Predicted      0      1     2   3\n",
      "Actual                           \n",
      "0          33599   5476   903   3\n",
      "1          10971  23971  2724  11\n",
      "2           2487   6133  5817  35\n",
      "3            384    726  1393  71\n",
      "\n",
      "=========================\n",
      "Classification report:\n",
      "                    pre       rec       spe        f1       geo       iba       sup\n",
      "\n",
      "          0       0.71      0.84      0.75      0.77      0.79      0.63     39981\n",
      "          1       0.66      0.64      0.78      0.65      0.71      0.49     37677\n",
      "          2       0.54      0.40      0.94      0.46      0.61      0.36     14472\n",
      "          3       0.59      0.03      1.00      0.05      0.17      0.02      2574\n",
      "\n",
      "avg / total       0.66      0.67      0.80      0.65      0.71      0.52     94704\n",
      "\n"
     ]
    }
   ],
   "source": [
    "rf = RandomForestClassifier(n_estimators = 500,\n",
    "                            criterion = \"entropy\",\n",
    "                            max_depth = None,\n",
    "                            min_samples_split = 10,\n",
    "                            min_samples_leaf = 1,\n",
    "                            n_jobs = 6)\n",
    "rf.fit(X_train, y_train)\n",
    "\n",
    "# Predictions\n",
    "y_pred = rf.predict(X_test)\n",
    "\n",
    "# Cross tab\n",
    "cross_tab = pd.crosstab(y_test, y_pred, rownames=['Actual'], colnames=['Predicted'])\n",
    "\n",
    "# Calculate the accuracy score\n",
    "accuracy = accuracy_score(y_test, y_pred)\n",
    "\n",
    "# Calculate accuracy score on the test data\n",
    "class_report = classification_report_imbalanced(y_test, y_pred)\n",
    "\n",
    "# Print the confusion matrix (cross_tab) and the accuracy score\n",
    "print('=========================')\n",
    "print(\"Cross-tab:\\n\",cross_tab)\n",
    "print('\\n=========================')\n",
    "print('Classification report:\\n',class_report)"
   ]
  },
  {
   "cell_type": "markdown",
   "id": "97bdbbe3-e1d9-4f9f-a15d-37719d11bfe6",
   "metadata": {},
   "source": [
    "So the performance is really bad for categories 2 and 3. We can compare with the oversampled training set `X_sm` and `y_sm`."
   ]
  },
  {
   "cell_type": "markdown",
   "id": "55fc9bc8-cd12-476c-a1ea-48e24bab72ca",
   "metadata": {
    "jp-MarkdownHeadingCollapsed": true
   },
   "source": [
    "## __RandomForest Classifier on the SMOTE training set__"
   ]
  },
  {
   "cell_type": "code",
   "execution_count": 69,
   "id": "ef8ddb85-8d80-4b3a-ad88-5fba087d00ca",
   "metadata": {
    "tags": []
   },
   "outputs": [
    {
     "name": "stdout",
     "output_type": "stream",
     "text": [
      "=========================\n",
      "Cross-tab:\n",
      " Predicted      0      1     2    3\n",
      "Actual                            \n",
      "0          33185   5016  1708   72\n",
      "1          10644  22471  4428  134\n",
      "2           2181   4712  7215  364\n",
      "3            300    510  1420  344\n",
      "\n",
      "=========================\n",
      "Classification report:\n",
      "                    pre       rec       spe        f1       geo       iba       sup\n",
      "\n",
      "          0       0.72      0.83      0.76      0.77      0.79      0.64     39981\n",
      "          1       0.69      0.60      0.82      0.64      0.70      0.48     37677\n",
      "          2       0.49      0.50      0.91      0.49      0.67      0.43     14472\n",
      "          3       0.38      0.13      0.99      0.20      0.36      0.12      2574\n",
      "\n",
      "avg / total       0.66      0.67      0.81      0.66      0.73      0.53     94704\n",
      "\n"
     ]
    }
   ],
   "source": [
    "rf = RandomForestClassifier(n_estimators = 500,\n",
    "                            criterion = \"entropy\",\n",
    "                            max_depth = None,\n",
    "                            min_samples_split = 10,\n",
    "                            min_samples_leaf = 1,\n",
    "                            n_jobs = 6)\n",
    "rf.fit(X_sm, y_sm)\n",
    "\n",
    "# Predictions\n",
    "y_pred = rf.predict(X_test)\n",
    "\n",
    "# Cross tab\n",
    "cross_tab = pd.crosstab(y_test, y_pred, rownames=['Actual'], colnames=['Predicted'])\n",
    "\n",
    "# Calculate the accuracy score\n",
    "accuracy = accuracy_score(y_test, y_pred)\n",
    "\n",
    "# Calculate accuracy score on the test data\n",
    "class_report = classification_report_imbalanced(y_test, y_pred)\n",
    "\n",
    "# Print the confusion matrix (cross_tab) and the accuracy score\n",
    "print('=========================')\n",
    "print(\"Cross-tab:\\n\",cross_tab)\n",
    "print('\\n=========================')\n",
    "print('Classification report:\\n',class_report)"
   ]
  },
  {
   "cell_type": "markdown",
   "id": "9f0fc26f-9490-4b9b-9a5d-a5860fa835bb",
   "metadata": {
    "jp-MarkdownHeadingCollapsed": true
   },
   "source": [
    "## __XGboost__"
   ]
  },
  {
   "cell_type": "code",
   "execution_count": 19,
   "id": "9529c658-6299-48d1-9b42-4e11b0c23a92",
   "metadata": {},
   "outputs": [
    {
     "name": "stderr",
     "output_type": "stream",
     "text": [
      "/home/pablo/anaconda3/envs/ml_env/lib/python3.9/site-packages/xgboost/core.py:160: UserWarning: [12:01:02] WARNING: /workspace/src/learner.cc:742: \n",
      "Parameters: { \"n_estimators\" } are not used.\n",
      "\n",
      "  warnings.warn(smsg, UserWarning)\n"
     ]
    },
    {
     "name": "stdout",
     "output_type": "stream",
     "text": [
      "=========================\n",
      "Cross-tab:\n",
      " Predicted    0.0    1.0   2.0   3.0\n",
      "Actual                             \n",
      "0          30862   5723   840  2556\n",
      "1          13781  14637  4959  4300\n",
      "2           3379   2878  3332  4883\n",
      "3            542    316   448  1268\n",
      "\n",
      "=========================\n",
      "Classification report:\n",
      "                    pre       rec       spe        f1       geo       iba       sup\n",
      "\n",
      "          0       0.64      0.77      0.68      0.70      0.72      0.53     39981\n",
      "          1       0.62      0.39      0.84      0.48      0.57      0.31     37677\n",
      "          2       0.35      0.23      0.92      0.28      0.46      0.20     14472\n",
      "          3       0.10      0.49      0.87      0.16      0.66      0.41      2574\n",
      "\n",
      "avg / total       0.57      0.53      0.79      0.53      0.62      0.39     94704\n",
      "\n"
     ]
    }
   ],
   "source": [
    "import xgboost as xgb \n",
    "\n",
    "# Convert the data into DMatrix format (optimized data structure for XGBoost)\n",
    "dtrain = xgb.DMatrix(X_sm, label=y_sm)\n",
    "dtest = xgb.DMatrix(X_test, label=y_test)\n",
    "\n",
    "# Define XGBoost parameters\n",
    "params = {\n",
    "    'objective': 'multi:softmax',  # Multiclass classification\n",
    "    'n_estimators': 1000, # Number of estimators\n",
    "    'num_class': 4,  # Number of classes (categories)\n",
    "    'eval_metric': 'merror',  # Metric to evaluate on (multiclass classification error rate)\n",
    "    'learning_rate': 0.001, # Learning rate\n",
    "    'max_depth': 3,  # Maximum depth of a tree\n",
    "    'eta': 0.1,  # Learning rate\n",
    "    'subsample': 1.0,  # Fraction of samples used for training each tree\n",
    "    'colsample_bytree': 0.8,  # Fraction of features used for training each tree\n",
    "    'seed': 42  # Random seed for reproducibility\n",
    "}\n",
    "\n",
    "# Train the XGBoost model\n",
    "num_rounds = 100  # Number of boosting rounds\n",
    "model = xgb.train(params, dtrain, num_rounds)\n",
    "\n",
    "# Make predictions on the test set\n",
    "y_pred = model.predict(dtest)\n",
    "\n",
    "# Cross tab\n",
    "cross_tab = pd.crosstab(y_test, y_pred, rownames=['Actual'], colnames=['Predicted'])\n",
    "\n",
    "# Calculate the accuracy score\n",
    "accuracy = accuracy_score(y_test, y_pred)\n",
    "\n",
    "# Calculate accuracy score on the test data\n",
    "class_report = classification_report_imbalanced(y_test, y_pred)\n",
    "\n",
    "# Print the confusion matrix (cross_tab) and the accuracy score\n",
    "print('=========================')\n",
    "print(\"Cross-tab:\\n\",cross_tab)\n",
    "print('\\n=========================')\n",
    "print('Classification report:\\n',class_report)"
   ]
  },
  {
   "cell_type": "markdown",
   "id": "1d10cfc7-a481-4c37-9aca-d6962e4371b0",
   "metadata": {},
   "source": [
    "## __Artificial Neural Network__"
   ]
  },
  {
   "cell_type": "code",
   "execution_count": 21,
   "id": "21395479-7473-485d-a91e-ba93c28bafa3",
   "metadata": {},
   "outputs": [
    {
     "name": "stdout",
     "output_type": "stream",
     "text": [
      "Model: \"sequential_1\"\n",
      "_________________________________________________________________\n",
      " Layer (type)                Output Shape              Param #   \n",
      "=================================================================\n",
      " input (Dense)               (None, 32)                11552     \n",
      "                                                                 \n",
      " layer_1 (Dense)             (None, 64)                2112      \n",
      "                                                                 \n",
      " layer_2 (Dense)             (None, 128)               8320      \n",
      "                                                                 \n",
      " layer_3 (Dense)             (None, 128)               16512     \n",
      "                                                                 \n",
      " output (Dense)              (None, 4)                 516       \n",
      "                                                                 \n",
      "=================================================================\n",
      "Total params: 39012 (152.39 KB)\n",
      "Trainable params: 39012 (152.39 KB)\n",
      "Non-trainable params: 0 (0.00 Byte)\n",
      "_________________________________________________________________\n",
      "None\n",
      "Epoch 1/20\n"
     ]
    },
    {
     "name": "stderr",
     "output_type": "stream",
     "text": [
      "2023-11-22 12:04:32.830101: W tensorflow/tsl/framework/cpu_allocator_impl.cc:83] Allocation of 1472080320 exceeds 10% of free system memory.\n"
     ]
    },
    {
     "name": "stdout",
     "output_type": "stream",
     "text": [
      "15974/15974 [==============================] - 15s 936us/step - loss: 0.7547 - recall_1: 0.6092 - val_loss: 1.1389 - val_recall_1: 0.3243\n",
      "Epoch 2/20\n",
      "15974/15974 [==============================] - 15s 920us/step - loss: 0.7189 - recall_1: 0.6292 - val_loss: 0.8032 - val_recall_1: 0.5793\n",
      "Epoch 3/20\n",
      "15974/15974 [==============================] - 14s 867us/step - loss: 0.7089 - recall_1: 0.6352 - val_loss: 1.3465 - val_recall_1: 0.2258\n",
      "Epoch 4/20\n",
      "15974/15974 [==============================] - 14s 874us/step - loss: 0.7031 - recall_1: 0.6381 - val_loss: 1.1780 - val_recall_1: 0.3530\n",
      "Epoch 5/20\n",
      "15974/15974 [==============================] - 14s 868us/step - loss: 0.6990 - recall_1: 0.6400 - val_loss: 1.0594 - val_recall_1: 0.4116\n",
      "Epoch 6/20\n",
      "15974/15974 [==============================] - 14s 879us/step - loss: 0.6955 - recall_1: 0.6424 - val_loss: 1.2805 - val_recall_1: 0.2610\n",
      "Epoch 7/20\n",
      "15974/15974 [==============================] - 14s 855us/step - loss: 0.6934 - recall_1: 0.6433 - val_loss: 1.4143 - val_recall_1: 0.2520\n",
      "Epoch 8/20\n",
      "15974/15974 [==============================] - 14s 854us/step - loss: 0.6913 - recall_1: 0.6451 - val_loss: 1.3548 - val_recall_1: 0.2972\n",
      "Epoch 9/20\n",
      "15974/15974 [==============================] - 14s 851us/step - loss: 0.6896 - recall_1: 0.6469 - val_loss: 1.1016 - val_recall_1: 0.3488\n",
      "Epoch 10/20\n",
      "15974/15974 [==============================] - 14s 859us/step - loss: 0.6884 - recall_1: 0.6471 - val_loss: 1.1185 - val_recall_1: 0.4236\n",
      "Epoch 11/20\n",
      "15974/15974 [==============================] - 14s 866us/step - loss: 0.6871 - recall_1: 0.6488 - val_loss: 1.1060 - val_recall_1: 0.3886\n",
      "Epoch 12/20\n",
      "15974/15974 [==============================] - 14s 860us/step - loss: 0.6860 - recall_1: 0.6497 - val_loss: 1.2378 - val_recall_1: 0.3496\n",
      "Epoch 13/20\n",
      "15974/15974 [==============================] - 14s 859us/step - loss: 0.6846 - recall_1: 0.6499 - val_loss: 1.0139 - val_recall_1: 0.4658\n",
      "Epoch 14/20\n",
      "15974/15974 [==============================] - 14s 860us/step - loss: 0.6841 - recall_1: 0.6500 - val_loss: 1.1626 - val_recall_1: 0.3878\n",
      "Epoch 15/20\n",
      "15974/15974 [==============================] - 14s 862us/step - loss: 0.6836 - recall_1: 0.6498 - val_loss: 1.0864 - val_recall_1: 0.4176\n",
      "Epoch 16/20\n",
      "15974/15974 [==============================] - 14s 853us/step - loss: 0.6835 - recall_1: 0.6503 - val_loss: 1.1707 - val_recall_1: 0.3474\n",
      "Epoch 17/20\n",
      "15974/15974 [==============================] - 14s 861us/step - loss: 0.6822 - recall_1: 0.6504 - val_loss: 1.1627 - val_recall_1: 0.3865\n",
      "Epoch 18/20\n",
      "15974/15974 [==============================] - 14s 879us/step - loss: 0.6821 - recall_1: 0.6502 - val_loss: 0.9605 - val_recall_1: 0.4786\n",
      "Epoch 19/20\n",
      "15974/15974 [==============================] - 14s 886us/step - loss: 0.6812 - recall_1: 0.6510 - val_loss: 1.1719 - val_recall_1: 0.3889\n",
      "Epoch 20/20\n",
      "15974/15974 [==============================] - 14s 860us/step - loss: 0.6812 - recall_1: 0.6510 - val_loss: 1.2170 - val_recall_1: 0.3459\n",
      "2960/2960 [==============================] - 1s 478us/step\n",
      "=========================\n",
      "Cross-tab:\n",
      " Predicted      0      1     2    3\n",
      "Actual                            \n",
      "0          33456   5421  1092   12\n",
      "1          11675  22687  3286   29\n",
      "2           2701   5615  6051  105\n",
      "3            398    587  1442  147\n",
      "\n",
      "=========================\n",
      "Classification report:\n",
      "               precision    recall  f1-score   support\n",
      "\n",
      "  Category 0       0.69      0.84      0.76     39981\n",
      "  Category 1       0.66      0.60      0.63     37677\n",
      "  Category 2       0.51      0.42      0.46     14472\n",
      "  Category 3       0.50      0.06      0.10      2574\n",
      "\n",
      "    accuracy                           0.66     94704\n",
      "   macro avg       0.59      0.48      0.49     94704\n",
      "weighted avg       0.65      0.66      0.64     94704\n",
      "\n"
     ]
    },
    {
     "ename": "KeyError",
     "evalue": "'accuracy'",
     "output_type": "error",
     "traceback": [
      "\u001b[0;31m---------------------------------------------------------------------------\u001b[0m",
      "\u001b[0;31mKeyError\u001b[0m                                  Traceback (most recent call last)",
      "Cell \u001b[0;32mIn[21], line 49\u001b[0m\n\u001b[1;32m     47\u001b[0m \u001b[38;5;66;03m# Plot training history\u001b[39;00m\n\u001b[1;32m     48\u001b[0m plt\u001b[38;5;241m.\u001b[39mfigure(figsize\u001b[38;5;241m=\u001b[39m(\u001b[38;5;241m10\u001b[39m, \u001b[38;5;241m6\u001b[39m))\n\u001b[0;32m---> 49\u001b[0m plt\u001b[38;5;241m.\u001b[39mplot(\u001b[43mhistory\u001b[49m\u001b[38;5;241;43m.\u001b[39;49m\u001b[43mhistory\u001b[49m\u001b[43m[\u001b[49m\u001b[38;5;124;43m'\u001b[39;49m\u001b[38;5;124;43maccuracy\u001b[39;49m\u001b[38;5;124;43m'\u001b[39;49m\u001b[43m]\u001b[49m, label\u001b[38;5;241m=\u001b[39m\u001b[38;5;124m'\u001b[39m\u001b[38;5;124mTraining Accuracy\u001b[39m\u001b[38;5;124m'\u001b[39m)\n\u001b[1;32m     50\u001b[0m plt\u001b[38;5;241m.\u001b[39mplot(history\u001b[38;5;241m.\u001b[39mhistory[\u001b[38;5;124m'\u001b[39m\u001b[38;5;124mval_accuracy\u001b[39m\u001b[38;5;124m'\u001b[39m], label\u001b[38;5;241m=\u001b[39m\u001b[38;5;124m'\u001b[39m\u001b[38;5;124mValidation Accuracy\u001b[39m\u001b[38;5;124m'\u001b[39m)\n\u001b[1;32m     51\u001b[0m plt\u001b[38;5;241m.\u001b[39mxlabel(\u001b[38;5;124m'\u001b[39m\u001b[38;5;124mEpochs\u001b[39m\u001b[38;5;124m'\u001b[39m)\n",
      "\u001b[0;31mKeyError\u001b[0m: 'accuracy'"
     ]
    },
    {
     "data": {
      "text/plain": [
       "<Figure size 1000x600 with 0 Axes>"
      ]
     },
     "metadata": {},
     "output_type": "display_data"
    }
   ],
   "source": [
    "from keras.models import Sequential\n",
    "from keras.layers import Dense\n",
    "from keras.utils import to_categorical\n",
    "from keras.metrics import Recall # We are interested into measure the Recall of the DNN output\n",
    "from tensorflow.keras.callbacks import ReduceLROnPlateau, EarlyStopping\n",
    "\n",
    "# Convert the target variable to categorical format\n",
    "y_sm_categorical   = to_categorical(y_sm, num_classes=4)\n",
    "y_test_categorical = to_categorical(y_test, num_classes=4)\n",
    "\n",
    "# Define the neural network architecture\n",
    "model = Sequential()\n",
    "model.add(Dense(32, input_dim=X_sm.shape[1], activation='relu', name='input'))\n",
    "model.add(Dense(64, activation='relu', name='layer_1'))\n",
    "model.add(Dense(128, activation='relu', name='layer_2'))\n",
    "model.add(Dense(128, activation='relu', name='layer_3'))\n",
    "model.add(Dense(4, activation='softmax', name='output'))\n",
    "\n",
    "# Compile the model\n",
    "model.compile(loss='categorical_crossentropy', optimizer='adam', metrics = [Recall()])\n",
    "\n",
    "print(model.summary())\n",
    "\n",
    "# Train the neural network\n",
    "history = model.fit(X_sm, y_sm_categorical, epochs=50, batch_size=32, validation_split=0.2, verbose=1)\n",
    "\n",
    "# Evaluate the model on the test set\n",
    "y_pred_proba = model.predict(X_test)\n",
    "y_pred = np.argmax(y_pred_proba, axis=1)\n",
    "\n",
    "# Convert predictions to categorical format for classification report\n",
    "y_test_categorical = np.argmax(y_test_categorical, axis=1)\n",
    "\n",
    "# Cross tab\n",
    "cross_tab = pd.crosstab(y_test_categorical, y_pred, rownames=['Actual'], colnames=['Predicted'])\n",
    "\n",
    "# Display classification report\n",
    "class_names = ['Category 0', 'Category 1', 'Category 2', 'Category 3']\n",
    "class_report = classification_report(y_test_categorical, y_pred, target_names=class_names)\n",
    "\n",
    "# Print the confusion matrix (cross_tab) and the accuracy score\n",
    "print('=========================')\n",
    "print(\"Cross-tab:\\n\",cross_tab)\n",
    "print('\\n=========================')\n",
    "print('Classification report:\\n',class_report)\n",
    "\n",
    "# Plot training history\n",
    "plt.figure(figsize=(10, 6))\n",
    "plt.plot(history.history['recall_2'], label='Training Recall')\n",
    "plt.plot(history.history['val_recall_2'], label='Validation Recall')\n",
    "plt.xlabel('Epochs')\n",
    "plt.ylabel('Recall')\n",
    "plt.title('Training and Validation Recall Over Epochs')\n",
    "plt.legend()\n",
    "plt.show()"
   ]
  },
  {
   "cell_type": "code",
   "execution_count": null,
   "id": "6701860d-5cc1-4880-9354-d47d2d88c1a2",
   "metadata": {},
   "outputs": [],
   "source": []
  }
 ],
 "metadata": {
  "kernelspec": {
   "display_name": "Python 3 (ipykernel)",
   "language": "python",
   "name": "python3"
  },
  "language_info": {
   "codemirror_mode": {
    "name": "ipython",
    "version": 3
   },
   "file_extension": ".py",
   "mimetype": "text/x-python",
   "name": "python",
   "nbconvert_exporter": "python",
   "pygments_lexer": "ipython3",
   "version": "3.9.18"
  }
 },
 "nbformat": 4,
 "nbformat_minor": 5
}
